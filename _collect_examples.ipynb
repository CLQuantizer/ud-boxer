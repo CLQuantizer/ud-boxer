{
 "cells": [
  {
   "cell_type": "code",
   "execution_count": 7,
   "metadata": {},
   "outputs": [
    {
     "name": "stderr",
     "output_type": "stream",
     "text": [
      "0it [00:00, ?it/s]Initialized cyclic SBN graph, this will work for most tasks, but can cause problems later on when exporting to Penman for instance.\n",
      "229it [00:00, 4218.73it/s]\n"
     ]
    }
   ],
   "source": [
    "from pathlib import Path\n",
    "from synse.helpers import pmb_generator\n",
    "from synse.sbn import SBNGraph, SBN_NODE_TYPE\n",
    "\n",
    "multi_boxes = []\n",
    "for path in pmb_generator('../../data/pmb_dataset/pmb-extracted/pmb-4.0.0/data/en/gold/p01/', \"**/*.sbn\"):\n",
    "    G = SBNGraph().from_path(path)\n",
    "    b_nodes = len([b for b in G.nodes if b[0] == SBN_NODE_TYPE.BOX])\n",
    "    if b_nodes > 1:\n",
    "        multi_boxes.append(path)"
   ]
  },
  {
   "cell_type": "code",
   "execution_count": 8,
   "metadata": {},
   "outputs": [
    {
     "data": {
      "text/plain": [
       "47"
      ]
     },
     "execution_count": 8,
     "metadata": {},
     "output_type": "execute_result"
    }
   ],
   "source": [
    "len(multi_boxes)"
   ]
  }
 ],
 "metadata": {
  "interpreter": {
   "hash": "7e1a869e4f47a7a6954aa45bb00cc42349ff8300181ba44d21e548229fd9a24b"
  },
  "kernelspec": {
   "display_name": "Python 3.9.7 ('thesis')",
   "language": "python",
   "name": "python3"
  },
  "language_info": {
   "codemirror_mode": {
    "name": "ipython",
    "version": 3
   },
   "file_extension": ".py",
   "mimetype": "text/x-python",
   "name": "python",
   "nbconvert_exporter": "python",
   "pygments_lexer": "ipython3",
   "version": "3.9.7"
  },
  "orig_nbformat": 4
 },
 "nbformat": 4,
 "nbformat_minor": 2
}

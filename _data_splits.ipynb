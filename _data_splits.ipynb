{
 "cells": [
  {
   "cell_type": "code",
   "execution_count": 2,
   "metadata": {},
   "outputs": [],
   "source": [
    "import pandas as pd\n",
    "from pathlib import Path\n",
    "\n",
    "DATA_DIR = Path('data/splits')"
   ]
  },
  {
   "cell_type": "code",
   "execution_count": null,
   "metadata": {},
   "outputs": [],
   "source": [
    "from synse.sbn_spec import SBNSpec\n",
    "\n",
    "for file in DATA_DIR.glob('*.txt'):\n",
    "    target = Path(f'{file.stem}.txt')\n",
    "\n",
    "    target.write_text(\n",
    "        \"\\n\".join(SBNSpec.DOC_ID_PATTERN.findall(file.read_text()))\n",
    "    )"
   ]
  },
  {
   "cell_type": "code",
   "execution_count": 3,
   "metadata": {},
   "outputs": [],
   "source": [
    "train = set(Path(DATA_DIR / f\"train.txt\").read_text().split(\"\\n\"))\n",
    "test = set(Path(DATA_DIR / f\"test.txt\").read_text().split(\"\\n\"))\n",
    "dev = set(Path(DATA_DIR / f\"dev.txt\").read_text().split(\"\\n\"))\n",
    "eval = set(Path(DATA_DIR / f\"eval.txt\").read_text().split(\"\\n\"))"
   ]
  },
  {
   "cell_type": "code",
   "execution_count": 4,
   "metadata": {},
   "outputs": [
    {
     "name": "stdout",
     "output_type": "stream",
     "text": [
      "train 7668\n",
      "test 1048\n",
      "dev 1169\n",
      "eval 830\n"
     ]
    }
   ],
   "source": [
    "print(f'train {len(train)}')\n",
    "print(f'test {len(test)}')\n",
    "print(f'dev {len(dev)}')\n",
    "print(f'eval {len(eval)}')"
   ]
  },
  {
   "cell_type": "code",
   "execution_count": 8,
   "metadata": {},
   "outputs": [
    {
     "data": {
      "text/plain": [
       "set()"
      ]
     },
     "execution_count": 8,
     "metadata": {},
     "output_type": "execute_result"
    }
   ],
   "source": [
    "test.intersection(dev)"
   ]
  }
 ],
 "metadata": {
  "interpreter": {
   "hash": "7e1a869e4f47a7a6954aa45bb00cc42349ff8300181ba44d21e548229fd9a24b"
  },
  "kernelspec": {
   "display_name": "Python 3.9.7 ('thesis')",
   "language": "python",
   "name": "python3"
  },
  "language_info": {
   "codemirror_mode": {
    "name": "ipython",
    "version": 3
   },
   "file_extension": ".py",
   "mimetype": "text/x-python",
   "name": "python",
   "nbconvert_exporter": "python",
   "pygments_lexer": "ipython3",
   "version": "3.9.7"
  },
  "orig_nbformat": 4
 },
 "nbformat": 4,
 "nbformat_minor": 2
}

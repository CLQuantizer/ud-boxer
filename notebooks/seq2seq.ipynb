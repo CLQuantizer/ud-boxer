{
 "cells": [
  {
   "cell_type": "code",
   "execution_count": 3,
   "metadata": {},
   "outputs": [],
   "source": [
    "import pandas as pd\n",
    "from pathlib import Path\n",
    "\n",
    "DATA_DIR = Path('../data/seq2seq/raw').resolve()\n",
    "IDS_DIR = Path('../data/splits').resolve()"
   ]
  },
  {
   "cell_type": "code",
   "execution_count": 9,
   "metadata": {},
   "outputs": [],
   "source": [
    "for split in ['dev', 'eval', 'test']:\n",
    "    lines = Path(DATA_DIR / f'{split}_gold_only.out').read_text().rstrip().split('\\n')\n",
    "    ids = Path(IDS_DIR / f'{split}.txt').read_text().rstrip().split('\\n')\n",
    "\n",
    "    assert len(lines) == len(ids)\n",
    "\n",
    "    Path(DATA_DIR / f'seq2seq_gold_only_{split}.txt').write_text(\n",
    "        '\\n'.join([f'{i},{o}' for i, o in zip(ids, lines)])\n",
    "    )"
   ]
  },
  {
   "cell_type": "code",
   "execution_count": 16,
   "metadata": {},
   "outputs": [
    {
     "name": "stdout",
     "output_type": "stream",
     "text": [
      "{'en/p20/d2343', 'en/p10/d1823', 'en/p00/d2229', 'en/p10/d3022', 'en/p40/d2979', 'en/p30/d1528', 'en/p10/d2815'}\n",
      "{'en/p70/d2267', 'en/p60/d0784'}\n",
      "{'en/p21/d3487', 'en/p81/d2490', 'en/p01/d1840', 'en/p81/d2197'}\n"
     ]
    }
   ],
   "source": [
    "from synse.sbn import SBNGraph\n",
    "\n",
    "IDS_DIR = Path('data/splits')\n",
    "\n",
    "for split in ['dev', 'eval', 'test']:\n",
    "    ids = set([\n",
    "        f'en/{i}' for i in  Path(IDS_DIR / f\"{split}.txt\").read_text().split(\"\\n\")\n",
    "    ])\n",
    "\n",
    "    df = pd.read_csv(f'seq2seq_results_{split}.csv')\n",
    "    ids_missing = ids.difference(set(df.pmb_id.tolist()))\n",
    "\n",
    "    error_records = []\n",
    "    for _id in ids_missing:\n",
    "        try:\n",
    "            SBNGraph().from_path(f'../../data/pmb_dataset/pmb-extracted/pmb-4.0.0/data/en/gold/{_id.replace(\"en/\", \"\")}/en.drs.sbn')\n",
    "        except Exception as e:\n",
    "            error_records.append(\n",
    "                {\n",
    "                    'pmb_id': _id, \n",
    "                    'raw_sent': Path(f'../../data/pmb_dataset/pmb-extracted/pmb-4.0.0/data/en/gold/{_id.replace(\"en/\", \"\")}/en.raw').read_text(),\n",
    "                    \"error\": f'Dataset error: {str(e)}'\n",
    "                }\n",
    "            )\n",
    "            \n",
    "    df_final = pd.concat([df, pd.DataFrame().from_records(error_records)])\n",
    "\n",
    "    df_final.loc[df_final['raw_sent'].isnull(), 'raw_sent'] = df_final[df_final['raw_sent'].isnull()]['pmb_id'].apply(lambda x: Path(f'../../data/pmb_dataset/pmb-extracted/pmb-4.0.0/data/en/gold/{x.replace(\"en/\", \"\")}/en.raw').read_text())\n",
    "\n",
    "    df_final['raw_sent'] = df_final['raw_sent'].str.replace('\\n', ' ')\n",
    "    df_final['raw_sent'] = df_final['raw_sent'].str.rstrip()\n",
    "    df_final.to_csv(f'seq/seq2seq_results_{split}.csv', index=False)\n",
    "\n",
    "\n",
    "\n",
    "\n"
   ]
  },
  {
   "cell_type": "code",
   "execution_count": 3,
   "metadata": {},
   "outputs": [
    {
     "name": "stderr",
     "output_type": "stream",
     "text": [
      "Initialized cyclic SBN graph, this will work for most tasks, but can cause problems later on when exporting to Penman for instance.\n"
     ]
    },
    {
     "data": {
      "text/plain": [
       "<synse.sbn.SBNGraph at 0x7fd90d65f250>"
      ]
     },
     "execution_count": 3,
     "metadata": {},
     "output_type": "execute_result"
    }
   ],
   "source": [
    "SBNGraph().from_path(f'../../data/pmb_dataset/pmb-extracted/pmb-4.0.0/data/en/gold/p10/d3022/en.drs.sbn')"
   ]
  },
  {
   "cell_type": "code",
   "execution_count": 31,
   "metadata": {},
   "outputs": [
    {
     "name": "stdout",
     "output_type": "stream",
     "text": [
      "dev: f1_strict 0.925 f1_lenient 0.933\n",
      "eval: f1_strict 0.917 f1_lenient 0.926\n",
      "test: f1_strict 0.924 f1_lenient 0.931\n"
     ]
    }
   ],
   "source": [
    "for split in ['dev', 'eval', 'test']:\n",
    "    df = pd.read_csv(f'seq/seq2seq_results_{split}.csv')\n",
    "\n",
    "    df['error'] = df['error'].fillna('')\n",
    "    df = df[~df['error'].str.contains('Dataset error')]\n",
    "\n",
    "    df['f1'] = df['f1'].fillna(0)\n",
    "    df['f1_lenient'] = df['f1_lenient'].fillna(0)\n",
    "    print(f'{split}: f1_strict {df.f1.mean():.3} f1_lenient {df.f1_lenient.mean():.3}')\n"
   ]
  },
  {
   "cell_type": "code",
   "execution_count": 32,
   "metadata": {},
   "outputs": [
    {
     "name": "stdout",
     "output_type": "stream",
     "text": [
      "test: f1_strict 0.767 f1_lenient 0.779\n"
     ]
    }
   ],
   "source": [
    "df = pd.read_csv(f'data/results/dev/dev_results_negation.csv')\n",
    "print(f'{split}: f1_strict {df.f1.mean():.3} f1_lenient {df.f1_lenient.mean():.3}')"
   ]
  },
  {
   "cell_type": "code",
   "execution_count": null,
   "metadata": {},
   "outputs": [],
   "source": []
  }
 ],
 "metadata": {
  "interpreter": {
   "hash": "7e1a869e4f47a7a6954aa45bb00cc42349ff8300181ba44d21e548229fd9a24b"
  },
  "kernelspec": {
   "display_name": "Python 3.9.7 ('thesis')",
   "language": "python",
   "name": "python3"
  },
  "language_info": {
   "codemirror_mode": {
    "name": "ipython",
    "version": 3
   },
   "file_extension": ".py",
   "mimetype": "text/x-python",
   "name": "python",
   "nbconvert_exporter": "python",
   "pygments_lexer": "ipython3",
   "version": "3.9.7"
  },
  "orig_nbformat": 4
 },
 "nbformat": 4,
 "nbformat_minor": 2
}

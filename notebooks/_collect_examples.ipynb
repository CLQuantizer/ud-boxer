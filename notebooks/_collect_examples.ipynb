{
 "cells": [
  {
   "cell_type": "code",
   "execution_count": 1,
   "metadata": {},
   "outputs": [
    {
     "name": "stderr",
     "output_type": "stream",
     "text": [
      "0it [00:00, ?it/s]Initialized cyclic SBN graph, this will work for most tasks, but can cause problems later on when exporting to Penman for instance.\n",
      "229it [00:00, 2904.02it/s]\n"
     ]
    }
   ],
   "source": [
    "from pathlib import Path\n",
    "from synse.helpers import PMB, pmb_generator\n",
    "from synse.sbn import SBNGraph, SBN_NODE_TYPE\n",
    "\n",
    "multi_boxes = []\n",
    "for path in pmb_generator('../../data/pmb_dataset/pmb-extracted/pmb-4.0.0/data/en/gold/p01/', \"**/*.sbn\"):\n",
    "    G = SBNGraph().from_path(path)\n",
    "    b_nodes = len([b for b in G.nodes if b[0] == SBN_NODE_TYPE.BOX])\n",
    "    if b_nodes > 1:\n",
    "        multi_boxes.append(path)"
   ]
  },
  {
   "cell_type": "code",
   "execution_count": 11,
   "metadata": {},
   "outputs": [
    {
     "name": "stderr",
     "output_type": "stream",
     "text": [
      "10715it [00:02, 5228.58it/s]\n"
     ]
    }
   ],
   "source": [
    "from synse.sbn_spec import split_wn_sense\n",
    "import logging\n",
    "import pickle\n",
    "\n",
    "logging.basicConfig(level=logging.ERROR)\n",
    "\n",
    "pmb = PMB()\n",
    "\n",
    "lemma_to_sense = dict()\n",
    "lemma_pos_to_sense = dict()\n",
    "\n",
    "for path in pmb.generator('../../data/pmb_dataset/pmb-extracted/pmb-4.0.0/data/en/gold/', '**/*.sbn'):\n",
    "    try:\n",
    "        G = SBNGraph().from_path(path)\n",
    "    except:\n",
    "        continue\n",
    "    for _, node_data in G.nodes.items():\n",
    "        if node_data[\"type\"] == SBN_NODE_TYPE.SENSE:\n",
    "            sense = node_data['token']\n",
    "            lemma, pos, num = split_wn_sense(sense)\n",
    "            if lemma in lemma_to_sense:\n",
    "                if sense in lemma_to_sense[lemma]:\n",
    "                    lemma_to_sense[lemma][sense] += 1\n",
    "                else:\n",
    "                    lemma_to_sense[lemma][sense] = 1\n",
    "            else:\n",
    "                lemma_to_sense[lemma] = {sense: 1}\n",
    "\n",
    "            lemma_pos = f'{lemma}.{pos}'\n",
    "            if lemma_pos in lemma_pos_to_sense:\n",
    "                if sense in lemma_pos_to_sense[lemma_pos]:\n",
    "                    lemma_pos_to_sense[lemma_pos][sense] += 1\n",
    "                else:\n",
    "                    lemma_pos_to_sense[lemma_pos][sense] = 1\n",
    "            else:\n",
    "                lemma_pos_to_sense[lemma_pos] = {sense: 1}"
   ]
  },
  {
   "cell_type": "code",
   "execution_count": 19,
   "metadata": {},
   "outputs": [],
   "source": [
    "def filter_most_common(mapping_dict):\n",
    "    filtered_dict = dict()\n",
    "    for lem, count_dict in mapping_dict.items():\n",
    "        if len(count_dict) == 1:\n",
    "            filtered_dict[lem] = list(count_dict.keys())[0]\n",
    "        else:\n",
    "            filtered_dict[lem] = sorted(list(count_dict.items()), key=lambda x: x[1])[-1][0]\n",
    "    return filtered_dict"
   ]
  },
  {
   "cell_type": "code",
   "execution_count": 20,
   "metadata": {},
   "outputs": [],
   "source": [
    "most_common_lemma_to_sense = filter_most_common(lemma_to_sense)\n",
    "most_common_lemma_pos_to_sense = filter_most_common(lemma_pos_to_sense)"
   ]
  },
  {
   "cell_type": "code",
   "execution_count": 23,
   "metadata": {},
   "outputs": [],
   "source": [
    "with open('lemma_sense_lookup_en_gold_train.pickle', 'wb') as f:\n",
    "    pickle.dump(most_common_lemma_to_sense, f)\n",
    "\n",
    "with open('lemma_pos_sense_lookup_en_gold_train.pickle', 'wb') as f:\n",
    "    pickle.dump(most_common_lemma_pos_to_sense, f)"
   ]
  },
  {
   "cell_type": "code",
   "execution_count": null,
   "metadata": {},
   "outputs": [],
   "source": []
  }
 ],
 "metadata": {
  "interpreter": {
   "hash": "7e1a869e4f47a7a6954aa45bb00cc42349ff8300181ba44d21e548229fd9a24b"
  },
  "kernelspec": {
   "display_name": "Python 3.9.7 ('thesis')",
   "language": "python",
   "name": "python3"
  },
  "language_info": {
   "codemirror_mode": {
    "name": "ipython",
    "version": 3
   },
   "file_extension": ".py",
   "mimetype": "text/x-python",
   "name": "python",
   "nbconvert_exporter": "python",
   "pygments_lexer": "ipython3",
   "version": "3.9.7"
  },
  "orig_nbformat": 4
 },
 "nbformat": 4,
 "nbformat_minor": 2
}

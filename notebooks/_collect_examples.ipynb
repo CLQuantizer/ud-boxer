{
 "cells": [
  {
   "cell_type": "code",
   "execution_count": 3,
   "metadata": {},
   "outputs": [
    {
     "ename": "ModuleNotFoundError",
     "evalue": "No module named 'synse'",
     "output_type": "error",
     "traceback": [
      "\u001b[0;31m---------------------------------------------------------------------------\u001b[0m",
      "\u001b[0;31mModuleNotFoundError\u001b[0m                       Traceback (most recent call last)",
      "\u001b[1;32m/home/wessel/Documents/documents/study/1_thesis/project/notebooks/_collect_examples.ipynb Cell 1'\u001b[0m in \u001b[0;36m<module>\u001b[0;34m\u001b[0m\n\u001b[1;32m      <a href='vscode-notebook-cell:/home/wessel/Documents/documents/study/1_thesis/project/notebooks/_collect_examples.ipynb#ch0000000?line=0'>1</a>\u001b[0m \u001b[39mfrom\u001b[39;00m \u001b[39mpathlib\u001b[39;00m \u001b[39mimport\u001b[39;00m Path\n\u001b[0;32m----> <a href='vscode-notebook-cell:/home/wessel/Documents/documents/study/1_thesis/project/notebooks/_collect_examples.ipynb#ch0000000?line=1'>2</a>\u001b[0m \u001b[39mfrom\u001b[39;00m \u001b[39msynse\u001b[39;00m\u001b[39m.\u001b[39;00m\u001b[39mhelpers\u001b[39;00m \u001b[39mimport\u001b[39;00m pmb_generator\n\u001b[1;32m      <a href='vscode-notebook-cell:/home/wessel/Documents/documents/study/1_thesis/project/notebooks/_collect_examples.ipynb#ch0000000?line=2'>3</a>\u001b[0m \u001b[39mfrom\u001b[39;00m \u001b[39msynse\u001b[39;00m\u001b[39m.\u001b[39;00m\u001b[39msbn\u001b[39;00m \u001b[39mimport\u001b[39;00m SBNGraph, SBN_NODE_TYPE\n\u001b[1;32m      <a href='vscode-notebook-cell:/home/wessel/Documents/documents/study/1_thesis/project/notebooks/_collect_examples.ipynb#ch0000000?line=4'>5</a>\u001b[0m multi_boxes \u001b[39m=\u001b[39m []\n",
      "\u001b[0;31mModuleNotFoundError\u001b[0m: No module named 'synse'"
     ]
    }
   ],
   "source": [
    "from pathlib import Path\n",
    "from synse.helpers import pmb_generator\n",
    "from synse.sbn import SBNGraph, SBN_NODE_TYPE\n",
    "\n",
    "multi_boxes = []\n",
    "for path in pmb_generator('../../data/pmb_dataset/pmb-extracted/pmb-4.0.0/data/en/gold/p01/', \"**/*.sbn\"):\n",
    "    G = SBNGraph().from_path(path)\n",
    "    b_nodes = len([b for b in G.nodes if b[0] == SBN_NODE_TYPE.BOX])\n",
    "    if b_nodes > 1:\n",
    "        multi_boxes.append(path)"
   ]
  },
  {
   "cell_type": "code",
   "execution_count": 8,
   "metadata": {},
   "outputs": [
    {
     "data": {
      "text/plain": [
       "47"
      ]
     },
     "execution_count": 8,
     "metadata": {},
     "output_type": "execute_result"
    }
   ],
   "source": [
    "len(multi_boxes)"
   ]
  }
 ],
 "metadata": {
  "interpreter": {
   "hash": "7e1a869e4f47a7a6954aa45bb00cc42349ff8300181ba44d21e548229fd9a24b"
  },
  "kernelspec": {
   "display_name": "Python 3.9.7 ('thesis')",
   "language": "python",
   "name": "python3"
  },
  "language_info": {
   "codemirror_mode": {
    "name": "ipython",
    "version": 3
   },
   "file_extension": ".py",
   "mimetype": "text/x-python",
   "name": "python",
   "nbconvert_exporter": "python",
   "pygments_lexer": "ipython3",
   "version": "3.9.7"
  },
  "orig_nbformat": 4
 },
 "nbformat": 4,
 "nbformat_minor": 2
}
